{
 "cells": [
  {
   "cell_type": "code",
   "execution_count": 68,
   "metadata": {},
   "outputs": [],
   "source": [
    "import torch\n",
    "import segmentation_models_pytorch as smp\n",
    "import cv2\n",
    "import os\n",
    "import matplotlib.pyplot as plt\n",
    "import shutil\n",
    "from torch.utils.data import Dataset, DataLoader, random_split\n",
    "\n",
    "model_weights_path = \"model.pth\"\n",
    "images_path = \"demo_images\""
   ]
  },
  {
   "cell_type": "code",
   "execution_count": 69,
   "metadata": {},
   "outputs": [],
   "source": [
    "class CustomImageDataset(Dataset):\n",
    "    def __init__(self, dataset_dir, transform=None, clip = 0, num_of_augmentations = 1, clip_offset = 0, image_work_size = 512):\n",
    "        self.dataset_dir = dataset_dir\n",
    "        self.transform = transform\n",
    "        self.num_of_augmentations = num_of_augmentations\n",
    "        self.clip_offset = clip_offset\n",
    "        \n",
    "        self.image_data = []\n",
    "        \n",
    "        files = os.listdir(dataset_dir)\n",
    "        images = {f.split('_')[0]: os.path.join(dataset_dir, f) for f in files if f.endswith('_sat.jpg')}\n",
    "        labels = {f.split('_')[0]: os.path.join(dataset_dir, f) for f in files if f.endswith('_mask.png')}\n",
    "\n",
    "        image_paths = [(images[key], labels[key]) for key in images if key in labels]\n",
    "        if(clip > 0):\n",
    "            image_paths = image_paths[clip_offset:clip_offset + clip]\n",
    "            \n",
    "        for image_path, label_path in image_paths:         \n",
    "            image = cv2.resize(cv2.imread(image_path, cv2.IMREAD_COLOR), (image_work_size, image_work_size))\n",
    "            label = cv2.resize(cv2.imread(label_path, cv2.IMREAD_GRAYSCALE),(image_work_size, image_work_size))\n",
    "\n",
    "            image = cv2.cvtColor(image, cv2.COLOR_BGR2RGB)\n",
    "            \n",
    "            self.image_data.append((image, label))\n",
    "\n",
    "    def __len__(self):\n",
    "        return len(self.image_data) * self.num_of_augmentations\n",
    "\n",
    "    def __getitem__(self, idx):\n",
    "        image, label = self.image_data[idx // self.num_of_augmentations]\n",
    "                \n",
    "        if self.transform:\n",
    "            image, label = self.transform(image, label)\n",
    "\n",
    "        image = image / 255.0\n",
    "        label = label / 255.0\n",
    "        \n",
    "        return (torch.tensor(image, dtype=torch.float32).permute(2, 0, 1),\n",
    "                torch.tensor(label, dtype=torch.float32).unsqueeze(0))"
   ]
  },
  {
   "cell_type": "code",
   "execution_count": 70,
   "metadata": {},
   "outputs": [],
   "source": [
    "model = smp.Unet(\n",
    "    encoder_name=\"efficientnet-b5\", \n",
    "    encoder_weights=\"imagenet\",\n",
    "    in_channels=3,\n",
    "    classes=1\n",
    ")\n",
    "\n",
    "state_dict = torch.load(model_weights_path, map_location=torch.device('cpu'), weights_only=True) \n",
    "model.load_state_dict(state_dict)  \n",
    "\n",
    "#Function to display an image, predicted mask, and actual mask\n",
    "def display_prediction(image, predicted_mask, actual_mask):\n",
    "    plt.figure(figsize=(12, 4))\n",
    "\n",
    "    #Input image\n",
    "    plt.subplot(1, 3, 1)\n",
    "    plt.imshow(image.permute(1, 2, 0).cpu().numpy())  # Convert CHW to HWC for display\n",
    "    plt.title(\"Input Image\")\n",
    "    plt.axis(\"off\")\n",
    "\n",
    "    #Model prediction\n",
    "    plt.subplot(1, 3, 2)\n",
    "    plt.imshow(predicted_mask.cpu().numpy(), cmap='gray')\n",
    "    plt.title(\"Model Prediction\")\n",
    "    plt.axis(\"off\")\n",
    "\n",
    "    #Ground truth\n",
    "    plt.subplot(1, 3, 3)\n",
    "    plt.imshow(actual_mask.squeeze(0).cpu().numpy(), cmap='gray')\n",
    "    plt.title(\"Actual Mask\")\n",
    "    plt.axis(\"off\")\n",
    "    \n",
    "    plt.show()"
   ]
  },
  {
   "cell_type": "code",
   "execution_count": null,
   "metadata": {},
   "outputs": [],
   "source": [
    "#Ensure model is in evaluation mode\n",
    "model.eval()\n",
    "#Set device\n",
    "device = torch.device(\"cuda\" if torch.cuda.is_available() else \"cpu\")\n",
    "model.to(device)"
   ]
  },
  {
   "cell_type": "code",
   "execution_count": null,
   "metadata": {},
   "outputs": [],
   "source": [
    "dataset = CustomImageDataset(images_path, clip=100)\n",
    "#Iterate through the test dataset\n",
    "for idx in range(len(dataset)):\n",
    "    #Get the image and label\n",
    "    image, actual_mask = dataset[idx]\n",
    "    image = image.to(device).unsqueeze(0)  #Add batch dimension\n",
    "    actual_mask = actual_mask.to(device)\n",
    "\n",
    "    #Run the image through the model\n",
    "    with torch.no_grad():\n",
    "        predicted_mask = model(image)\n",
    "        predicted_mask = torch.sigmoid(predicted_mask)  #Apply sigmoid for binary segmentation\n",
    "        predicted_mask = (predicted_mask > 0.5).float().squeeze(0)  #Threshold to binary mask\n",
    "\n",
    "    #Display the input image, model prediction, and actual mask\n",
    "    display_prediction(image.squeeze(0), predicted_mask.squeeze(0), actual_mask)\n"
   ]
  }
 ],
 "metadata": {
  "kernelspec": {
   "display_name": "env",
   "language": "python",
   "name": "python3"
  },
  "language_info": {
   "codemirror_mode": {
    "name": "ipython",
    "version": 3
   },
   "file_extension": ".py",
   "mimetype": "text/x-python",
   "name": "python",
   "nbconvert_exporter": "python",
   "pygments_lexer": "ipython3",
   "version": "3.12.8"
  }
 },
 "nbformat": 4,
 "nbformat_minor": 2
}
